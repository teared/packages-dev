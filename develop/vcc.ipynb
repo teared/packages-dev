{
 "cells": [
  {
   "cell_type": "markdown",
   "metadata": {},
   "source": [
    "## Inspect VCC functions\n",
    "\n",
    "Since Houdini 16.5 I no longer need to use any of it to generate\n",
    "completions and reliable signatures. Still, may be useful in future."
   ]
  },
  {
   "cell_type": "code",
   "execution_count": 1,
   "metadata": {
    "collapsed": true
   },
   "outputs": [],
   "source": [
    "import os.path as op\n",
    "import random\n",
    "import copy\n",
    "import json\n",
    "import yaml\n",
    "from subprocess import run, PIPE\n",
    "\n",
    "HFS = 'C:/Program Files/Side Effects Software/Houdini 16.5.268'\n",
    "\n",
    "assert op.exists(HFS)"
   ]
  },
  {
   "cell_type": "markdown",
   "metadata": {},
   "source": [
    "### Fetch data from VCC"
   ]
  },
  {
   "cell_type": "code",
   "execution_count": 2,
   "metadata": {},
   "outputs": [
    {
     "name": "stdout",
     "output_type": "stream",
     "text": [
      "\n",
      "Total functions: 741\n",
      "Total signatures: 3634\n",
      "\n",
      "Random function: sample_direction_uniform\n",
      "Signatures: 1\n",
      "\n",
      "- args: [const vector2]\n",
      "  contexts: [surface, displace, light, shadow, fog, chop, pop, sop, cop2, image3d, cvex]\n",
      "  external: true\n",
      "  return: vector\n",
      "\n",
      "\n"
     ]
    }
   ],
   "source": [
    "vcc_exe = op.join(HFS, 'bin/vcc')\n",
    "proc = run([vcc_exe, '--list-context-json'],\n",
    "           shell=True, stdout=PIPE)\n",
    "\n",
    "# Load VEX contexts list from VCC.\n",
    "contexts = json.loads(proc.stdout)\n",
    "\n",
    "# Collect all VEX functions from all contexts.\n",
    "vcc = {}\n",
    "for con in contexts:\n",
    "    proc = run([vcc_exe, '--list-context-json', con],\n",
    "               shell=True, stdout=PIPE)\n",
    "    funs = json.loads(proc.stdout)['functions']\n",
    "\n",
    "    # Include context signatures.\n",
    "    for f, sigs in funs.items():\n",
    "        for s in sigs:\n",
    "            s['contexts'] = [con]\n",
    "\n",
    "    # Add unique functions and signatures to common dictionary.\n",
    "    for f in funs:\n",
    "        # Function not exists.\n",
    "        if f not in vcc:\n",
    "            vcc[f] = {'sigs': funs[f]}\n",
    "            continue\n",
    "\n",
    "        # Function exists. Search for unique signatures.\n",
    "        for con_s in funs[f]:\n",
    "            for s in vcc[f]['sigs']:\n",
    "                if (con_s['args'], con_s['return']) == (s['args'], s['return']):\n",
    "                    s['contexts'].append(con)\n",
    "                    break  # Suppress for-else clause.\n",
    "            # Non-unique not found (signature is unique).\n",
    "            else:\n",
    "                vcc[f]['sigs'].append(con_s)\n",
    "\n",
    "\n",
    "# Debug VCC output.\n",
    "rand_fun = random.choice(list(vcc))\n",
    "print(f'''\n",
    "Total functions: {len(vcc)}\n",
    "Total signatures: {sum(len(vcc[fun]['sigs']) for fun in vcc)}\n",
    "\n",
    "Random function: {rand_fun}\n",
    "Signatures: {len(vcc[rand_fun]['sigs'])}\n",
    "\n",
    "{yaml.dump(vcc[rand_fun]['sigs'], width=200)}\n",
    "''')"
   ]
  },
  {
   "cell_type": "markdown",
   "metadata": {},
   "source": [
    "### Cleanup result"
   ]
  },
  {
   "cell_type": "code",
   "execution_count": 3,
   "metadata": {},
   "outputs": [
    {
     "name": "stdout",
     "output_type": "stream",
     "text": [
      "Clean version: sample_direction_uniform\n",
      "Signatures: 1\n",
      "- args: [vector2]\n",
      "  return: vector\n",
      "\n",
      "\n"
     ]
    }
   ],
   "source": [
    "vcc_export = copy.deepcopy(vcc)\n",
    "\n",
    "for name, fun in vcc_export.items():\n",
    "    for sig in fun['sigs']:\n",
    "        # What is it?\n",
    "        if 'external' in sig:\n",
    "            del sig['external']\n",
    "            \n",
    "        for i in range(len(sig['args'])):\n",
    "            if 'const' in sig['args'][i]:\n",
    "                sig['args'][i] = sig['args'][i].replace('const ', '')\n",
    "            else:\n",
    "                sig['args'][i] = '&' + sig['args'][i].replace('export ', '')\n",
    "\n",
    "        if 'variadic' in sig or 'variadic_pair' in sig:\n",
    "            sig['args'].append('...')\n",
    "        if 'variadic' in sig:\n",
    "            del sig['variadic']\n",
    "        if 'variadic_pair' in sig:\n",
    "            del sig['variadic_pair']\n",
    "            \n",
    "        # Remove contexts from all-contexts functions.\n",
    "        if set(sig['contexts']) == set(contexts):\n",
    "            del sig['contexts']\n",
    "            \n",
    "        if not sig['args']:\n",
    "            del sig['args']\n",
    "            \n",
    "        if sig['return'] == 'void':\n",
    "            del sig['return']\n",
    "\n",
    "    # Discard deprecated signatures.\n",
    "    vcc_export[name] = {'sigs': [s for s in fun['sigs'] if 'deprecated' not in s]}\n",
    "\n",
    "\n",
    "# Debug result.\n",
    "print(f'''Clean version: {rand_fun}\n",
    "Signatures: {len(vcc_export[rand_fun]['sigs'])}\n",
    "{yaml.dump(vcc_export[rand_fun]['sigs'], width=200)}\n",
    "''')\n",
    "\n",
    "\n",
    "# Export to YAML.\n",
    "with open('vcc.yml', 'w') as f:\n",
    "    yaml.dump(vcc_export, f, width=256)"
   ]
  },
  {
   "cell_type": "markdown",
   "metadata": {},
   "source": [
    "### Extra"
   ]
  },
  {
   "cell_type": "code",
   "execution_count": 7,
   "metadata": {
    "scrolled": true
   },
   "outputs": [
    {
     "name": "stdout",
     "output_type": "stream",
     "text": [
      "\n",
      "Variadic:\n",
      "array avg ckspline concat cspline error fuzzy_and fuzzy_nand fuzzy_nor fuzzy_nxor fuzzy_or fuzzy_xor getsmoothP haslight kspline lkspline lspline max min newsampler nrandom print_once printf spline sprintf texprintf warning\n",
      "\n",
      "Variadic pair:\n",
      "addvariablename pcconvex pcfarthest pcnumfound pcsize solid_angle\n",
      "\n",
      "Both:\n",
      "Du Dv Dw addattribute albedo ambient area ashikhmin binput blinn cinput colormap computenormal cone cvex_bsdf diffuse environment eval_bsdf expand_udim fastshadow file_stat filtershadow filterstep finput getderiv getlights gradient hair henyeygreenstein intersect intersect_lights irradiance isotropic matchvex_blinn matchvex_specular nextsample ninput occlusion pathtrace pcexport pcfilter pcopen pcopenlod pcwrite phong phonglobe photonmap ptexture rawcolormap rayhittest reflectlight refractlight resolvemissedray sample_bsdf sample_geometry sample_light shadow_light shadowmap specular sssapprox texture texture3d texture3dBox trace translucent volume wireblinn wirediffuse\n",
      "\n"
     ]
    }
   ],
   "source": [
    "# Inspect variadic functions of all sorts.\n",
    "\n",
    "variadic = set()\n",
    "varpair = set()\n",
    "both = set()\n",
    "\n",
    "for name, fun in vcc.items():\n",
    "    for sig in fun['sigs']:\n",
    "        if 'variadic' in sig:\n",
    "            variadic.add(name)\n",
    "        if 'variadic_pair' in sig:\n",
    "            varpair.add(name)\n",
    "\n",
    "print(f'''\n",
    "Variadic:\n",
    "{' '.join(sorted(variadic - varpair))}\n",
    "\n",
    "Variadic pair:\n",
    "{' '.join(sorted(varpair - variadic))}\n",
    "\n",
    "Both:\n",
    "{' '.join(sorted(variadic & varpair))}\n",
    "''')"
   ]
  },
  {
   "cell_type": "code",
   "execution_count": 6,
   "metadata": {
    "scrolled": false
   },
   "outputs": [
    {
     "name": "stdout",
     "output_type": "stream",
     "text": [
      "\n",
      "External-only:\n",
      "adddetailattrib addpointattrib addprimattrib addvertexattrib agentclipcatalog agentclipnames agentcliptimes agentcliptransformgroups agentclipweights agentcollisionlayer agentcurrentlayer agentlayers agenttransformgroups agenttransformnames append assign attrib attribclass blackbody chadd chinputlimits chnames chremove chremoveattr chrename chsetlength chsetrate chsetstart clamp cross degrees detailattribsize detailattribtype detailattribtypeinfo detailintrinsic distance distance2 dot efit endswith filamentsample fit fit01 fit10 fit11 fuzzify fuzzy_defuzz_centroid geoself geounwrap getattrib getbbox getbbox_center getbbox_max getbbox_min getbbox_size getpointbbox_center getpointbbox_max getpointbbox_min getpointbbox_size hasdetailattrib haspointattrib hasprimattrib hasvertexattrib hedge_dstpoint hedge_next hedge_postdstpoint hedge_presrcpoint hedge_prev hedge_srcpoint ident idtopoint idtoprim ingroup isalpha isdigit isvalidindex length length2 limit_sample_space luminance minpos nametopoint nametoprim nearpoint nearpoints normalize ntransform osd_patches ow_nspace ow_vspace planepointdistance planesphereintersect pointattribsize pointattribtype pointattribtypeinfo pointedge pointhedge pointhedgenext pointvertex primattribsize primattribtype primattribtypeinfo primhedge primintrinsic primuv primvertex primvertexcount product ptransform qdistance radians rand reflect relbbox relpointbbox removeindex removevalue reorder resample_linear reverse rgbtoxyz rotate_x_to sample_cauchy sample_circle_arc sample_circle_edge_uniform sample_circle_slice sample_circle_uniform sample_direction_cone sample_direction_uniform sample_discrete sample_exponential sample_hemisphere sample_hypersphere_cone sample_hypersphere_uniform sample_lognormal sample_lognormal_by_median sample_normal sample_orientation_cone sample_orientation_uniform sample_sphere_cone sample_sphere_uniform setagentclipnames setagentcliptimes setagentclipweights setagentcollisionlayer setagentcurrentlayer setagentlocaltransforms setagentworldtransforms setdetailattrib setpointattrib setpointgroup setprimattrib setprimgroup setprimintrinsic setvertexattrib setvertexgroup setvertexpoint sign slideframe sort startswith strlen sum swizzle tet_faceindex titlecase tolower toupper tw_nspace tw_vspace uvdist uvintersect uvsample vertexattribsize vertexattribtype vertexattribtypeinfo vertexhedge vertexnext vertexpoint vertexprev vertexprim volumevoxeldiameter vtransform wo_nspace wo_vspace wt_nspace wt_vspace xyztorgb\n",
      "\n",
      "Non-external-only:\n",
      "Du Dv Dw accessframe acos addattrib addattribute addgroup addpoint addprim addvariablename addvertex addvisualizer agentaddclip albedo alphaname ambient anoise area argsort array ashikhmin asin assert_enabled atan atan2 atof atoi atten binput blinn blinnBRDF bouncelabel bouncemask bumpmap bumpmapA bumpmapB bumpmapG bumpmapL bumpmapR bumpname cbrt ceil ch ch2 ch3 ch4 chexpr chexprf chexprt chf chi chp chr chramp chreadbuf chresizebuf chs chsraw chu chv chwritebuf cinput ckspline clip colormap colorname computenormal concat cone cos cosh cracktransform cspline curlnoise curlnoise2d curlxnoise curlxnoise2d cvex_bsdf depthmap depthname determinant diffuse diffuseBRDF dihedral dimport dsmpixel eigenvalues environment erf erf_inv erfc error eulertoquaternion eval_bsdf exp expand_udim fastshadow file_stat filtershadow filterstep finput flownoise flowpnoise frac fresnel fromNDC fuzzy_and fuzzy_nand fuzzy_nor fuzzy_not fuzzy_nxor fuzzy_or fuzzy_xor getattribute getblurP getbounces getbounds getcomp getcomponents getderiv getfogname getglobalraylevel getgroupid getlight getlightid getlightname getlights getlightscope getlocalcurvature getmaterial getmaterialid getobjectid getobjectname getphotonlight getprimid getptextureid getraylevel getrayweight getsamplestore getscope getsmoothP getspace getuvtangents gradient hair haslight hasmetadata hasplane henyeygreenstein hscript_noise hscript_rand hscript_snoise hscript_sturb hscript_turb hsvtorgb iaspect ichname iend iendtime ihasplane import interpolate intersect_lights inumplanes invert iplaneindex iplanename iplanesize irate irradiance isbound isconnected isfinite isfogray isframes isnan isotropic israytracing issamples isseconds isshadowray istart istarttime isuvrendering isvarying itoa ixres iyres join kspline len lightbounces lightid limport lkspline log log10 lspline lumname mask_bsdf maskname match matchvex_blinn matchvex_specular mattrib mdensity metadata metaimport metamarch metanext metastart metaweight mspace nbouncetypes newgroup newsampler nextsample ninput ninputs noise noised normal_bsdf normalname nrandom occlusion ocean_sample ocio_activedisplays ocio_activeviews ocio_import ocio_roles ocio_spaces onoise opend opfullpath opparentbonetransform opparenttransform opparmtransform oppreconstrainttransform oppretransform opstart optransform ord outerproduct pack_inttosafefloat pathtrace pcclose pcconvex pcexport pcfarthest pcfilter pcgenerate pcimport pcimportbyidx3 pcimportbyidx4 pcimportbyidxf pcimportbyidxi pcimportbyidxp pcimportbyidxs pcimportbyidxv pciterate pcnumfound pcopenlod pcsampleleaf pcsize pcunshaded pcwrite phong phongBRDF phonglobe photonmap planeindex planename planesize pluralize pnoise pointname polardecomp pop pow predicate_incircle predicate_insphere predicate_orient2d predicate_orient3d primarclen primduv primuvconvert print_once printf ptexture ptlined push qconvert qinvert qmultiply qrotate quaternion random random_fhash random_ihash random_shash random_sobol rawbumpmap rawbumpmapA rawbumpmapB rawbumpmapG rawbumpmapL rawbumpmapR rawcolormap rayhittest rayimport re_match reflectlight refract refractlight relativepath removegroup removepoint removeprim renderstate resize resolvemissedray rgbtohsv rint rotate sample_bsdf sample_cdf sample_geometry sample_light sample_photon sampledisk scale scatter select sensor_panorama_create sensor_panorama_getcolor sensor_panorama_getcone sensor_panorama_getdepth sensor_save serialize setagentclips setagentlocaltransform setagentworldtransform setattribtypeinfo setcomp setcurrentlight setedgegroup setprimvertex setsamplestore shadow shadow_light shadowmap shimport shl shr shrz simport sin sinh sleep slerp smooth smoothrotation snoise solid_angle solvecubic solvequadratic specular specularBRDF spline split split_bsdf splitpath sprintf sqrt sssapprox storelightexport switch tan tanh teximport texprintf texture texture3d texture3dBox toNDC trace translucent trunc unpack_intfromsafefloat unserialize upush uvunwrap variance velocityname vnoise volume warning wireblinn wirediffuse writepixel xnoise xnoised\n",
      "\n",
      "Both:\n",
      "abs agentclipchannel agentcliplength agentclipsample agentclipsamplelocal agentclipsamplerate agentclipsampleworld agentfindtransformgroup agentlayerbindings agentlayershapes agentlocaltransform agentlocaltransforms agentrigchildren agentrigfind agentrigparent agenttransformcount agenttransformgroupmember agenttransformgroupweight agenttransformtolocal agenttransformtoworld agentworldtransform agentworldtransforms attribsize attribtype attribtypeinfo avg chattr chattrnames chend chendf chendt chindex chinput chname chnumchan chrate chsetattr chstart chstartf chstartt ctransform cwnoise detail detailattrib expandedgegroup expandpointgroup expandprimgroup find findattribval findattribvalcount floor frontface getpointbbox hasattrib hedge_dstvertex hedge_equivcount hedge_isequiv hedge_isprimary hedge_isvalid hedge_nextequiv hedge_postdstvertex hedge_presrcvertex hedge_prim hedge_primary hedge_srcvertex inedgegroup inpointgroup inprimgroup insert instance intersect intersect_all invertexgroup lerp lookat lstrip makebasis maketransform max min mwnoise nedgesgroup neighbour neighbourcount neighbours npoints npointsgroup nprimitives nprimitivesgroup nuniqueval nvertices nverticesgroup ocio_transform opdigits osd_facecount osd_firstpatch osd_limitsurface osd_limitsurfacevertex osd_lookupface osd_lookuppatch osd_patchcount ow_space pcfind pcfind_radius pcopen pgfind point pointattrib pointprims pointvertices prim prim_attribute prim_normal primattrib primfind primpoint primpoints primvertices re_find re_findall re_replace re_split rstrip set setattrib slice solvepoly strip tet_adjacent translate transpose tw_space uniqueval vertex vertexattrib vertexindex vertexprimindex volumegradient volumeindex volumeindexorigin volumeindextopos volumeindexv volumepostoindex volumeres volumesample volumesamplev wnoise wo_space wt_space xyzdist\n",
      "\n"
     ]
    }
   ],
   "source": [
    "# Inspect external functions.\n",
    "\n",
    "external = set()\n",
    "nonexternal = set()\n",
    "\n",
    "for name, fun in vcc.items():\n",
    "    for sig in fun['sigs']:\n",
    "        if 'external' in sig:\n",
    "            external.add(name)\n",
    "        else:\n",
    "            nonexternal.add(name)\n",
    "\n",
    "print(f'''\n",
    "External-only:\n",
    "{' '.join(sorted(external - nonexternal))}\n",
    "\n",
    "Non-external-only:\n",
    "{' '.join(sorted(nonexternal - external))}\n",
    "\n",
    "Both:\n",
    "{' '.join(sorted(nonexternal & external))}\n",
    "''')"
   ]
  },
  {
   "cell_type": "markdown",
   "metadata": {},
   "source": [
    "WTF is this?"
   ]
  }
 ],
 "metadata": {
  "anaconda-cloud": {},
  "kernelspec": {
   "display_name": "Python 3",
   "language": "python",
   "name": "python3"
  },
  "language_info": {
   "codemirror_mode": {
    "name": "ipython",
    "version": 3
   },
   "file_extension": ".py",
   "mimetype": "text/x-python",
   "name": "python",
   "nbconvert_exporter": "python",
   "pygments_lexer": "ipython3",
   "version": "3.6.1"
  },
  "name": "_merged"
 },
 "nbformat": 4,
 "nbformat_minor": 1
}
