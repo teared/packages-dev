{
 "cells": [
  {
   "cell_type": "markdown",
   "metadata": {},
   "source": [
    "## Generate VEX function completions\n",
    "\n",
    "Finally, verified signatures documentation in Houdini 16.5!\n",
    "I'll discard all previous work I did in last couple of years\n",
    "and will rely on the docs."
   ]
  },
  {
   "cell_type": "code",
   "execution_count": 1,
   "metadata": {},
   "outputs": [],
   "source": [
    "import sys\n",
    "import os.path as op\n",
    "import zipfile\n",
    "import json\n",
    "\n",
    "HFS = 'C:/Program Files/Side Effects Software/Houdini 17.5.223'\n",
    "sys.path.append(op.join(HFS, 'houdini/python2.7libs'))\n",
    "\n",
    "from bookish.wiki.wikipages import parse_to_root as parse_wikipage\n",
    "import vex  # houdinihelp.vex module fixed to work with Python 3"
   ]
  },
  {
   "cell_type": "code",
   "execution_count": 2,
   "metadata": {},
   "outputs": [],
   "source": [
    "def extract_text(node):\n",
    "    '''Evaluate possibly nested 'text' element to string.'''\n",
    "    if isinstance(node, dict):\n",
    "        return extract_text(node['text'])\n",
    "    elif isinstance(node, list):\n",
    "        return ''.join(extract_text(i) for i in node)\n",
    "    else:\n",
    "        return node\n",
    "\n",
    "\n",
    "def usages(node):\n",
    "    '''Recursively extract all 'type' values from Bookish tree.'''\n",
    "    if type(node) is dict:\n",
    "        if node['type'] == 'usage':\n",
    "            yield extract_text(node['text'])\n",
    "\n",
    "        for k in node:\n",
    "            if type(node[k]) is list:\n",
    "                for i in node[k]:\n",
    "                    for j in usages(i):\n",
    "                        yield j\n",
    "\n",
    "\n",
    "def all_usages(functions):\n",
    "    '''Convenience loop for many Bookish trees stored in a dict.'''\n",
    "    for f in functions:\n",
    "        for u in usages(functions[f]):\n",
    "            yield u"
   ]
  },
  {
   "cell_type": "code",
   "execution_count": 3,
   "metadata": {},
   "outputs": [
    {
     "data": {
      "text/plain": [
       "1674"
      ]
     },
     "execution_count": 3,
     "metadata": {},
     "output_type": "execute_result"
    }
   ],
   "source": [
    "# Open vex.zip containing various helpcards including functions.\n",
    "# Parse Wiki files into JSON using Bookish wiki parser.\n",
    "docs = {}\n",
    "\n",
    "with zipfile.ZipFile(op.join(HFS, 'houdini/help/vex.zip')) as z:\n",
    "    for path in z.namelist():\n",
    "        if op.dirname(path) == 'functions':\n",
    "            with z.open(path) as f:\n",
    "                name = op.splitext(op.basename(path))[0]\n",
    "                markup = f.read().decode()\n",
    "                docs[name] = parse_wikipage(markup)\n",
    "\n",
    "# Parse function usage examples from docs.\n",
    "parsed_usages = [vex.parse_vex(usage) for usage in all_usages(docs)]\n",
    "len(parsed_usages)"
   ]
  },
  {
   "cell_type": "code",
   "execution_count": 4,
   "metadata": {},
   "outputs": [
    {
     "name": "stdout",
     "output_type": "stream",
     "text": [
      "Generated 1262 completions.\n"
     ]
    }
   ],
   "source": [
    "comps = {\n",
    "    'scope': 'source.vex -string -comment -source.hscript',\n",
    "    'completions': []\n",
    "}\n",
    "unique_triggers = set()\n",
    "\n",
    "for usage in parsed_usages:\n",
    "    function_name = usage.ident.name\n",
    "\n",
    "    args = []\n",
    "    for arg in usage.arglist.args:\n",
    "        if isinstance(arg, vex.VariadicArgs):\n",
    "            args.append(arg.string())\n",
    "        else:\n",
    "            args.append(arg.ident.string())\n",
    "\n",
    "    trigger = f\"{function_name}({', '.join(args)})\"\n",
    "\n",
    "    # Completion exists.\n",
    "    if trigger in unique_triggers:\n",
    "        continue\n",
    "        \n",
    "    # Completion not exists. Make a new one.\n",
    "    unique_triggers.add(trigger)\n",
    "\n",
    "    # Build contents.\n",
    "    cargs = [f'${{{i}:{arg}}}' for i, arg in enumerate(args, 1)]\n",
    "    contents = f\"{function_name}({', '.join(cargs)})\"\n",
    "\n",
    "    comps['completions'].append({'trigger': trigger,\n",
    "                                 'contents': contents})\n",
    "\n",
    "\n",
    "print('Generated %d completions.' % len(unique_triggers))\n",
    "\n",
    "\n",
    "# Write completions into a functions.sublime-completions file.\n",
    "with open('functions.sublime-completions', 'w') as f:\n",
    "    json.dump(comps, f, indent=4)"
   ]
  }
 ],
 "metadata": {
  "kernelspec": {
   "display_name": "Python 3",
   "language": "python",
   "name": "python3"
  },
  "language_info": {
   "codemirror_mode": {
    "name": "ipython",
    "version": 3
   },
   "file_extension": ".py",
   "mimetype": "text/x-python",
   "name": "python",
   "nbconvert_exporter": "python",
   "pygments_lexer": "ipython3",
   "version": "3.7.1"
  }
 },
 "nbformat": 4,
 "nbformat_minor": 2
}
