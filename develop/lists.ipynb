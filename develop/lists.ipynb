{
 "cells": [
  {
   "cell_type": "markdown",
   "metadata": {},
   "source": [
    "## Generate lists of functions"
   ]
  },
  {
   "cell_type": "code",
   "execution_count": 1,
   "metadata": {},
   "outputs": [],
   "source": [
    "import json\n",
    "import subprocess\n",
    "\n",
    "from hfs import HFS"
   ]
  },
  {
   "cell_type": "code",
   "execution_count": 2,
   "metadata": {},
   "outputs": [],
   "source": [
    "lists = {}"
   ]
  },
  {
   "cell_type": "code",
   "execution_count": 3,
   "metadata": {},
   "outputs": [
    {
     "data": {
      "text/plain": [
       "429"
      ]
     },
     "execution_count": 3,
     "metadata": {},
     "output_type": "execute_result"
    }
   ],
   "source": [
    "# # Obtain available HScript commands with hbatch.\n",
    "\n",
    "# proc = subprocess.run('hbatch -q -c help;quit'.split(),\n",
    "#                       stdout=subprocess.PIPE,\n",
    "#                       universal_newlines=True)\n",
    "# result = proc.stdout\n",
    "\n",
    "\n",
    "# Unfortunately, hbatch is not aware about ~40 commands available in Houdini and MPlay\n",
    "# I have to launch Houdini and run commands manually.\n",
    "\n",
    "result = '''alias                     networkeditor             pane                      \n",
    "atjob                     nextkey                   panepath                  \n",
    "audiopanel                nodegraph                 parmeditor                \n",
    "autosave                  objcache                  parmlist                  \n",
    "bonealigncapture          objcleantransform         parmsheet                 \n",
    "boneconvert               objextractpretransform    pathmap                   \n",
    "bonefixchops              objkinoverride            perfmon                   \n",
    "bonemoveend               objlightlink              performance               \n",
    "bookmark                  objmaterial               pilist                    \n",
    "break                     objparent                 play                      \n",
    "bundlelist                objpretransform           pomadd                    \n",
    "chadd                     objresetpretransform      pomattach                 \n",
    "chalias                   ociocolorspace            pomclear                  \n",
    "chaneditor                ociodisplay               pomdetach                 \n",
    "chanlist                  ombind                    pomls                     \n",
    "chautoscope               ombindinfo                pomparm                   \n",
    "chautoselect              omls                      pomremove                 \n",
    "chblockbegin              omparm                    pomrename                 \n",
    "chblockend                omsbind                   pomscript                 \n",
    "chcommit                  omsbindinfo               pomset                    \n",
    "chcp                      omsls                     preference                \n",
    "chgadd                    omsunbind                 prompt                    \n",
    "chgglobal                 omswhere                  propertyedit              \n",
    "chgls                     omunbind                  python                    \n",
    "chgop                     omwhere                   pythonpanel               \n",
    "chgpopulate               omwrite                   quit                      \n",
    "chgrm                     opadd                     radial                    \n",
    "chhold                    opalias                   read                      \n",
    "chkey                     opautoplace               render                    \n",
    "chkeyget                  opbadd                    rkill                     \n",
    "chkeyls                   opbfilters                ropview                   \n",
    "chkeymv                   opbls                     rps                       \n",
    "chkeyrm                   opbname                   scenegraphtree            \n",
    "chlock                    opbop                     sceneviewconfig           \n",
    "chls                      opbrm                     sceneviewopts             \n",
    "chopexportmap             opcf                      sceneviewpurpose          \n",
    "chopls                    opchange                  sceneviewrenderopts       \n",
    "chopscope                 opchangetype              set                       \n",
    "chopview                  opchmod                   setenv                    \n",
    "chread                    opcollapse                shelfdock                 \n",
    "chrefit                   opcolor                   shift                     \n",
    "chrename                  opcomment                 shoppromote               \n",
    "chreverse                 opcook                    shopthumb                 \n",
    "chrm                      opcopy                    shopvisible               \n",
    "chround                   opcp                      sopcache                  \n",
    "chscope                   opdefaultcolor            sopcreateedit             \n",
    "chstretch                 opdefaultshape            source                    \n",
    "chwrite                   opdelscript               stampdirty                \n",
    "clear                     opdepend                  system                    \n",
    "closeport                 opdeprecate               takeadd                   \n",
    "cmdread                   openport                  takeautomode              \n",
    "colladaimport             opeventscriptcache        takeinclude               \n",
    "colorsettings             opexclude                 takelist                  \n",
    "commandecho               opexprlanguage            takeload                  \n",
    "compfree                  opextern                  takels                    \n",
    "compopts                  opextract                 takemerge                 \n",
    "compproject               opfind                    takemove                  \n",
    "continue                  opfirstname               takename                  \n",
    "cplane                    opgadd                    takerm                    \n",
    "datatree                  opget                     takesave                  \n",
    "desk                      opgetinput                takescript                \n",
    "dopdatahint               opglob                    takeset                   \n",
    "dopdatatypealias          opgls                     tcur                      \n",
    "dopdatatypes              opgop                     test_access               \n",
    "dopsave                   opgrm                     texcache                  \n",
    "dopsavedata               ophelp                    time                      \n",
    "dopsolveadddata           ophide                    timeslice                 \n",
    "dopsolvecopydata          opinfo                    tmgadd                    \n",
    "dopsolveremovedata        opinputstring             tmgls                     \n",
    "dopsolvesetoption         oplayout                  tmgname                   \n",
    "dsedit                    oplegacyinputs            tmgop                     \n",
    "dsoinfo                   oplocate                  tmgrm                     \n",
    "dsreload                  opls                      tmgshift                  \n",
    "echo                      opmenu                    toolbar                   \n",
    "else                      opmultiparm               topcancel                 \n",
    "end                       opname                    topcook                   \n",
    "endif                     oporder                   topdirty                  \n",
    "excat                     oppane                    treechooser               \n",
    "exedit                    opparm                    treecontrol               \n",
    "exhelp                    oppaste                   tset                      \n",
    "exit                      oppresetload              ucd                       \n",
    "exls                      oppresetloadfile          uls                       \n",
    "exread                    oppresetls                umkdir                    \n",
    "exrm                      oppresetrm                undoctrl                  \n",
    "fbximport                 oppresetsave              unitlength                \n",
    "fbximportanim             oppresetsavefile          unitmass                  \n",
    "fcur                      opproperty                unix                      \n",
    "fdependadd                oppwf                     updateui                  \n",
    "fdependhide               opramp                    upwd                      \n",
    "fdependls                 opread                    urm                       \n",
    "fdependrm                 oprename                  varchange                 \n",
    "filechooser               oprm                      version                   \n",
    "for                       oprmtype                  vexinfo                   \n",
    "foreach                   opsave                    vexprofile                \n",
    "fplayback                 opscale                   viewagentopts             \n",
    "fps                       opscript                  viewbackground            \n",
    "frange                    opset                     viewcamera                \n",
    "fset                      opspare                   viewcolor                 \n",
    "ftimecode                 opspareds                 viewcopy                  \n",
    "geocache                  opstat                    viewdisplay               \n",
    "glcache                   optype                    viewdispopts              \n",
    "help                      optypeinstall             viewdispset               \n",
    "helpbrowser               optyperead                vieweffect                \n",
    "helpsearch                optypeuninstall           viewergrouplist           \n",
    "history                   opunhide                  viewerinspect             \n",
    "hotkey                    opunload                  vieweroption              \n",
    "if                        opunwire                  viewerstow                \n",
    "imgdispopt                opupdate                  viewforeground            \n",
    "imgsave                   opuserdata                viewhome                  \n",
    "imgview                   opwire                    viewinfotext              \n",
    "imgview2d                 opwrite                   viewlayout                \n",
    "imgviewhist               otcollapse                viewlight                 \n",
    "imgviewls                 otcomment                 viewls                    \n",
    "imgviewtime               otconfig                  viewmaskoverlay           \n",
    "imgviewtool               otcontentadd              viewname                  \n",
    "iprview                   otcontentdelete           viewonionskin             \n",
    "job                       otcontentls               viewoptadd                \n",
    "linker                    otcontentsave             viewoptenable             \n",
    "listchooser               otcopy                    viewoptls                 \n",
    "memory                    otcplayout                viewoptname               \n",
    "menurefresh               otcreatecompiledtypefrom  viewoptrm                 \n",
    "message                   otcreatetypefrom          viewoptset                \n",
    "mnew                      otdelete                  vieworthogrid             \n",
    "mread                     otedit                    viewposteffects           \n",
    "mwrite                    otexpand                  viewprojection            \n",
    "nbadd                     otgetotl                  viewrefplane              \n",
    "nbcolor                   otglob                    viewroto                  \n",
    "nbcp                      otinuse                   viewsnapshot              \n",
    "nbget                     otload                    viewsnapshotoption        \n",
    "nbglob                    otls                      viewtool                  \n",
    "nblocate                  otmerge                   viewtransform             \n",
    "nbls                      otprefer                  viewtype                  \n",
    "nblsop                    otrefresh                 viewupdate                \n",
    "nbname                    otrenamesource            viewuvgrid                \n",
    "nbop                      otsync                    viewwrite                 \n",
    "nbrm                      ottouch                   visualizeradd             \n",
    "nbset                     otunload                  visualizerset             \n",
    "nbsize                    otunsync                  vopforcecompile           \n",
    "netcolumns                otversion                 vopwritevfl               \n",
    "neteditor                 otwrite                   while                     \n",
    "netviewdep                '''\n",
    "\n",
    "# From MPlay\n",
    "result += '''alias        exedit       fset         loadaudio    python       time         \n",
    "appendseq    exhelp       help         loadseq      quit         treechooser  \n",
    "atjob        exit         history      memory       read         tset         \n",
    "break        exls         if           message      seqls        ucd          \n",
    "chblockbegin exread       imgdispopt   mplayfit     set          uls          \n",
    "chblockend   exrm         imgsave      mplayhome    setcomp      umkdir       \n",
    "closeport    fcur         imgview      mplayprofile setenv       undoctrl     \n",
    "cmdread      filechooser  imgview2d    openport     setplane     unix         \n",
    "continue     for          imgviewhist  pathmap      shift        upwd         \n",
    "echo         foreach      imgviewls    perfmon      source       urm          \n",
    "else         fplayback    imgviewtime  play         system       varchange    \n",
    "end          fps          job          prependseq   tcur         version      \n",
    "endif        frange       listchooser  prompt       test_access  while        \n",
    "excat        '''\n",
    "\n",
    "# From?\n",
    "result += '''animeditor\n",
    "java\n",
    "kinconvert\n",
    "matrman\n",
    "matupdateref\n",
    "ociocolorspace\n",
    "ociodisplay\n",
    "rexport\n",
    "shopconvert'''\n",
    "\n",
    "lists['hscript_commands'] = list(sorted(set(result.split())))\n",
    "\n",
    "for drop in ['break', 'continue', 'else', 'end', 'endif', 'for', 'foreach', 'if', 'while']:\n",
    "    lists['hscript_commands'].remove(drop)\n",
    "\n",
    "len(lists['hscript_commands'])"
   ]
  },
  {
   "cell_type": "code",
   "execution_count": 4,
   "metadata": {},
   "outputs": [
    {
     "data": {
      "text/plain": [
       "446"
      ]
     },
     "execution_count": 4,
     "metadata": {},
     "output_type": "execute_result"
    }
   ],
   "source": [
    "# Obtain available HScript Expression functions with hbatch.\n",
    "# Running \"exhelp\" in Houdini Textport shows that the only difference\n",
    "# are \"iprquery\" and \"iprquerys\" functions available in Houdini.\n",
    "\n",
    "proc = subprocess.run([HFS / 'bin' / 'hbatch.exe', '-q', '-c', 'exhelp;quit'],\n",
    "                      stdout=subprocess.PIPE,\n",
    "                      universal_newlines=True)\n",
    "result = set(proc.stdout.split())\n",
    "result |= {'iprquery', 'iprquerys'}\n",
    "lists['hscript_expressions'] = list(sorted(result))\n",
    "\n",
    "\n",
    "len(lists['hscript_expressions'])"
   ]
  },
  {
   "cell_type": "code",
   "execution_count": 5,
   "metadata": {},
   "outputs": [
    {
     "data": {
      "text/plain": [
       "10"
      ]
     },
     "execution_count": 5,
     "metadata": {},
     "output_type": "execute_result"
    }
   ],
   "source": [
    "# Load VEX contexts list from VCC.\n",
    "proc = subprocess.run([HFS / 'bin' / 'vcc.exe', '--list-context-json'],\n",
    "                      stdout=subprocess.PIPE,\n",
    "                      universal_newlines=True)\n",
    "lists['vex_contexts'] = list(sorted(json.loads(proc.stdout)))\n",
    "\n",
    "\n",
    "len(lists['vex_contexts'])"
   ]
  },
  {
   "cell_type": "code",
   "execution_count": 6,
   "metadata": {},
   "outputs": [
    {
     "name": "stdout",
     "output_type": "stream",
     "text": [
      "__jumplight __nextgather __nextlight __nextmeta __ptexture_shift_coord __resetlights __testactivelight _export add and band bgather blight bnot bor bpointloop br break bwhile bxor div else endel endif endnotif eq ge getelem gt if jump le loop lt me measured merge mod mul ne neg ngather nlight nop not notif or pointloop popinline pushinline random_hash raybias returninline setelem struct sub swap urandom while xor\n",
      "agentcollisionlayer agentcurrentlayer arraylength cout gradient3d importance_light integrate3d integrate3dClip intersect3d randomf setagentcollisionlayer setagentcurrentlayer storelightexports\n"
     ]
    },
    {
     "data": {
      "text/plain": [
       "1007"
      ]
     },
     "execution_count": 6,
     "metadata": {},
     "output_type": "execute_result"
    }
   ],
   "source": [
    "# Collect VEX function names from all contexts.\n",
    "funs = set()\n",
    "stray_funs = set()\n",
    "deprecated_funs = set()\n",
    "for con in lists['vex_contexts']:\n",
    "    proc = subprocess.run([HFS / 'bin' / 'vcc.exe', '--list-context-json', con],\n",
    "                          stdout=subprocess.PIPE,\n",
    "                          universal_newlines=True)\n",
    "    data = json.loads(proc.stdout)\n",
    "    for f, sigs in data['functions'].items():\n",
    "        if not sigs:\n",
    "            stray_funs.add(f)\n",
    "        elif all('deprecated' in sig for sig in sigs):\n",
    "            deprecated_funs.add(f)\n",
    "        else:\n",
    "            funs.add(f)\n",
    "lists['vex_functions'] = list(sorted(funs))\n",
    "\n",
    "print(' '.join(sorted(stray_funs)))\n",
    "print(' '.join(sorted(deprecated_funs)))\n",
    "len(lists['vex_functions'])"
   ]
  },
  {
   "cell_type": "code",
   "execution_count": 7,
   "metadata": {},
   "outputs": [],
   "source": [
    "with open('lists.json', 'w') as f:\n",
    "    json.dump(lists, f, indent=4)"
   ]
  },
  {
   "cell_type": "code",
   "execution_count": 8,
   "metadata": {},
   "outputs": [
    {
     "name": "stdout",
     "output_type": "stream",
     "text": [
      "alias|animeditor|appendseq|atjob|audiopanel|autosave|bonealigncapture|boneconvert|bonefixchops|bonemoveend|bookmark|bundlelist|chadd|chalias|chaneditor|chanlist|chautoscope|chautoselect|chblockbegin|chblockend|chcommit|chcp|chgadd|chgglobal|chgls|chgop|chgpopulate|chgrm|chhold|chkey|chkeyget|chkeyls|chkeymv|chkeyrm|chlock|chls|chopexportmap|chopls|chopscope|chopview|chread|chrefit|chrename|chreverse|chrm|chround|chscope|chstretch|chwrite|clear|closeport|cmdread|colladaimport|colorsettings|commandecho|compfree|compopts|compproject|cplane|datatree|desk|dopdatahint|dopdatatypealias|dopdatatypes|dopsave|dopsavedata|dopsolveadddata|dopsolvecopydata|dopsolveremovedata|dopsolvesetoption|dsedit|dsoinfo|dsreload|echo|excat|exedit|exhelp|exit|exls|exread|exrm|fbximport|fbximportanim|fcur|fdependadd|fdependhide|fdependls|fdependrm|filechooser|fplayback|fps|frange|fset|ftimecode|geocache|glcache|help|helpbrowser|helpsearch|history|hotkey|imgdispopt|imgsave|imgview|imgview2d|imgviewhist|imgviewls|imgviewtime|imgviewtool|iprview|java|job|kinconvert|linker|listchooser|loadaudio|loadseq|matrman|matupdateref|memory|menurefresh|message|mnew|mplayfit|mplayhome|mplayprofile|mread|mwrite|nbadd|nbcolor|nbcp|nbget|nbglob|nblocate|nbls|nblsop|nbname|nbop|nbrm|nbset|nbsize|netcolumns|neteditor|netviewdep|networkeditor|nextkey|nodegraph|objcache|objcleantransform|objextractpretransform|objkinoverride|objlightlink|objmaterial|objparent|objpretransform|objresetpretransform|ociocolorspace|ociodisplay|ombind|ombindinfo|omls|omparm|omsbind|omsbindinfo|omsls|omsunbind|omswhere|omunbind|omwhere|omwrite|opadd|opalias|opautoplace|opbadd|opbfilters|opbls|opbname|opbop|opbrm|opcf|opchange|opchangetype|opchmod|opcollapse|opcolor|opcomment|opcook|opcopy|opcp|opdefaultcolor|opdefaultshape|opdelscript|opdepend|opdeprecate|openport|opeventscriptcache|opexclude|opexprlanguage|opextern|opextract|opfind|opfirstname|opgadd|opget|opgetinput|opglob|opgls|opgop|opgrm|ophelp|ophide|opinfo|opinputstring|oplayout|oplegacyinputs|oplocate|opls|opmenu|opmultiparm|opname|oporder|oppane|opparm|oppaste|oppresetload|oppresetloadfile|oppresetls|oppresetrm|oppresetsave|oppresetsavefile|opproperty|oppwf|opramp|opread|oprename|oprm|oprmtype|opsave|opscale|opscript|opset|opspare|opspareds|opstat|optype|optypeinstall|optyperead|optypeuninstall|opunhide|opunload|opunwire|opupdate|opuserdata|opwire|opwrite|otcollapse|otcomment|otconfig|otcontentadd|otcontentdelete|otcontentls|otcontentsave|otcopy|otcplayout|otcreatecompiledtypefrom|otcreatetypefrom|otdelete|otedit|otexpand|otgetotl|otglob|otinuse|otload|otls|otmerge|otprefer|otrefresh|otrenamesource|otsync|ottouch|otunload|otunsync|otversion|otwrite|pane|panepath|parmeditor|parmlist|parmsheet|pathmap|perfmon|performance|pilist|play|pomadd|pomattach|pomclear|pomdetach|pomls|pomparm|pomremove|pomrename|pomscript|pomset|preference|prependseq|prompt|propertyedit|python|pythonpanel|quit|radial|read|render|rexport|rkill|ropview|rps|scenegraphtree|sceneviewconfig|sceneviewopts|sceneviewpurpose|sceneviewrenderopts|seqls|set|setcomp|setenv|setplane|shelfdock|shift|shopconvert|shoppromote|shopthumb|shopvisible|sopcache|sopcreateedit|source|stampdirty|system|takeadd|takeautomode|takeinclude|takelist|takeload|takels|takemerge|takemove|takename|takerm|takesave|takescript|takeset|tcur|test_access|texcache|time|timeslice|tmgadd|tmgls|tmgname|tmgop|tmgrm|tmgshift|toolbar|topcancel|topcook|topdirty|treechooser|treecontrol|tset|ucd|uls|umkdir|undoctrl|unitlength|unitmass|unix|updateui|upwd|urm|varchange|version|vexinfo|vexprofile|viewagentopts|viewbackground|viewcamera|viewcolor|viewcopy|viewdisplay|viewdispopts|viewdispset|vieweffect|viewergrouplist|viewerinspect|vieweroption|viewerstow|viewforeground|viewhome|viewinfotext|viewlayout|viewlight|viewls|viewmaskoverlay|viewname|viewonionskin|viewoptadd|viewoptenable|viewoptls|viewoptname|viewoptrm|viewoptset|vieworthogrid|viewposteffects|viewprojection|viewrefplane|viewroto|viewsnapshot|viewsnapshotoption|viewtool|viewtransform|viewtype|viewupdate|viewuvgrid|viewwrite|visualizeradd|visualizerset|vopforcecompile|vopwritevfl\n"
     ]
    }
   ],
   "source": [
    "print('|'.join(lists['hscript_commands']))"
   ]
  },
  {
   "cell_type": "code",
   "execution_count": 9,
   "metadata": {},
   "outputs": [
    {
     "name": "stdout",
     "output_type": "stream",
     "text": [
      "abs|abspath|acos|angvel|arclen|arclenD|arg|argc|asin|atan|atan2|atof|attriblist|bbox|bezier|bitand|bitor|bitset|bittest|bitxor|boneangle|ceil|centroid|ch|chexist|chexpr|chexprf|chexprt|chf|chgroup|chop|chopcf|chopci|chopct|chope|chopf|chopi|chopl|chopn|chopnames|chopr|chops|chopstr|chopt|chramp|chrampf|chrampt|chs|chsop|chsoplist|chsraw|cht|clamp|clamptosphere|constant|contextoption|contextoptions|cophasmeta|cophasplane|copmeta|copmetas|cos|cosh|cross|cubic|curvature|cycle|cycleoffset|cycleoffsett|cyclet|decode|decodeattrib|decodeparm|deg|degree|detail|detailattriblist|detailattribsize|detailattribtype|details|detailsmap|detailsnummap|determinant|dihedral|distance|dopallfields|dopcontextgeo|dopcountslices|dopfield|dopfieldname|dopfields|dopfieldtype|dopframe|dopframetost|dopgrouphasobject|dopgrouplist|dophasfield|dophassubdata|dopnodeobjs|dopnumfields|dopnumobjects|dopnumrecords|dopnumrecordtypes|dopnumsubdata|dopobjectlist|dopobjectsareaffectors|dopobjscreatedby|dopoption|dopoptions|doprecordtypename|dopsolvedopnet|dopsolvenewobject|dopsolvenumnewobjects|dopsolvenumobjects|dopsolveobject|dopsolvetimestep|dopsttoframe|dopsttot|dopsubdataname|doptime|doptransform|dopttost|dopvelatpos|dot|ease|easein|easeinp|easeout|easeoutp|easep|edgegrouplist|edgegroupmask|encode|encodeattrib|encodeparm|eval|evals|execute|executeb|executee|exp|explodematrix|explodematrixp|explodematrixpr|findfile|findfiles|fit|fit01|fit10|fit11|floor|fpadzero|frac|ftoa|ftrim|groupbyval|groupbyvals|hascontextoption|hasdetailattrib|haspdgattrib|haspoint|haspointattrib|hasprim|hasprimattrib|hasvertexattrib|hextoint|hsv|ic|ice|icl|icmax|icmin|icn|icr|ics|identity|if|ifs|imgbounds|index|instancepoint|int|inttohex|invert|iprquery|iprquerys|isclosed|iscollided|ishvariable|isspline|isstuck|isvariable|iswrapu|iswrapv|length|linear|listbyval|listbyvals|lock|log|log10|lopinputprim|lopinputprims|loplastmodifiedprim|loplastmodifiedprims|lopparentprims|loprelativeprims|match|matchin|matchout|matrix|matrixtoquat|max|mcols|metaweight|min|mindist|mlookat|mlookatup|mobjlookat|modblend|morient|mousepane|mousepath|mrows|mzero|nearpoint|noise|normal|normalize|npoints|npointsgroup|nprims|nprimsgroup|nuniquevals|nvertices|nverticesgroup|objkinoverride|objlightmask|objlookat|objpretransform|oc|ocldeviceinfo|oldrand|opblist|opcreator|opdigits|opexist|opflag|opfullpath|opfullpathfrom|opid|opinput|opinputpath|opinputstring|opisloading|opisquitting|oplightmask|oplistsort|opname|opnchildren|opninputs|opnodigits|opnoutputs|opoutput|opoutputpath|oppinput|oppwd|oppwf|oprelativepath|opselect|opselectpath|opselectrecurse|opselectrecursepath|opstreamname|opsubpath|optransform|optype|optypeinfo|origin|originoffset|padzero|param|parmisstring|pdgattrib|pdgattriblist|pdgattribs|pdgattribsize|pdgattribtype|pdgattribute|pdgattributes|pdgattribvals|pdginput|pdginputsize|pdginputtag|pdginputvals|pdgmappath|pdgoutput|pdgoutputsize|pdgoutputtag|pdgoutputvals|pic|picni|pluralize|point|pointattriblist|pointattribsize|pointattribtype|pointavg|pointdist|pointgrouplist|pointgroupmask|pointlist|pointneighbours|pointpattern|points|pointsmap|pointsnummap|pow|prim|primattriblist|primattribsize|primattribtype|primdist|primduv|primgrouplist|primgroupmask|primlist|primneighbours|prims|primsmap|primsnummap|primuv|print|property|propertyf|propertys|propertysop|propertysraw|propertyt|pulse|pythonexprf|pythonexprs|qlinear|quattomatrix|quintic|rad|rand|realuv|relpath|repeat|repeatt|res|rgb|rindex|rint|rotate|rotaxis|round|run|runb|rune|scale|scalefrommks|scaletomks|seqanim|seqend|seqlength|seqstart|shopstring|sign|sin|sinh|smooth|snoise|spknot|spline|sqrt|stamp|stamps|strcasecmp|strcasematch|strcat|strcmp|strdup|stripmatrix|strlen|strmatch|strreplace|sturb|substr|surflen|system|systemES|systemRAW|tan|tanh|tex|texni|tolower|toupper|translate|transpose|trunc|turb|uniqueval|uniquevals|unituv|uvdist|vangle|vector|vector3|vector4|vertex|vertexattriblist|vertexattribsize|vertexattribtype|vertexgrouplist|vertexgroupmask|vertexs|vertexsmap|vertexsnummap|vlength|vlength2|vmatch|vmatchin|vmatchout|volumeaverage|volumegradient|volumeindex|volumeindextopos|volumemax|volumemin|volumepostoindex|volumeres|volumesample|volumevoxeldiameter|vorigin|vpname|vrorigin|vscale|vset|vsize|vtorigin|wrap|xyzdist\n"
     ]
    }
   ],
   "source": [
    "print('|'.join(lists['hscript_expressions']))"
   ]
  },
  {
   "cell_type": "code",
   "execution_count": 10,
   "metadata": {},
   "outputs": [
    {
     "name": "stdout",
     "output_type": "stream",
     "text": [
      "chop|cop2|cvex|displace|fog|image3d|light|shadow|sop|surface\n"
     ]
    }
   ],
   "source": [
    "print('|'.join(lists['vex_contexts']))"
   ]
  },
  {
   "cell_type": "code",
   "execution_count": 11,
   "metadata": {},
   "outputs": [
    {
     "name": "stdout",
     "output_type": "stream",
     "text": [
      "Du|Dv|Dw|__uniform_mul|__uniform_premul|abs|abspath|accessframe|acos|addattrib|addattribute|adddetailattrib|addgroup|addpoint|addpointattrib|addprim|addprimattrib|addvariablename|addvertex|addvertexattrib|addvisualizer|agentaddclip|agentchannelcount|agentchannelnames|agentchannelvalue|agentchannelvalues|agentclipcatalog|agentclipchannel|agentclipchannelnames|agentcliplength|agentclipnames|agentclipsample|agentclipsamplelocal|agentclipsamplerate|agentclipsampleworld|agentclipstarttime|agentcliptimes|agentcliptransformgroups|agentclipweights|agentcollisionlayers|agentcurrentlayers|agentfindtransformgroup|agentlayerbindings|agentlayers|agentlayershapes|agentlocaltransform|agentlocaltransforms|agentmetadata|agentrigchildren|agentrigfind|agentrigfindchannel|agentrigparent|agentsolvefbik|agenttransformcount|agenttransformgroupmember|agenttransformgroupmemberchannel|agenttransformgroups|agenttransformgroupweight|agenttransformnames|agenttransformtolocal|agenttransformtoworld|agentworldtransform|agentworldtransforms|albedo|alphaname|ambient|anoise|append|area|argsort|array|ashikhmin|asin|assert_enabled|assign|atan|atan2|atof|atoi|atten|attrib|attribclass|attribdataid|attribsize|attribtype|attribtypeinfo|avg|binput|blackbody|blinn|blinnBRDF|bouncelabel|bouncemask|bumpmap|bumpmapA|bumpmapB|bumpmapG|bumpmapL|bumpmapR|bumpname|cbrt|ceil|ch|ch2|ch3|ch4|chadd|chattr|chattrnames|chdict|chend|chendf|chendt|chexpr|chexprf|chexprt|chf|chi|chiang|chid|chindex|chinput|chinputlimits|chname|chnames|chnumchan|chop|choplocal|choplocalt|chopt|chp|chr|chramp|chrampderiv|chrate|chreadbuf|chremove|chremoveattr|chrename|chresizebuf|chs|chsetattr|chsetlength|chsetrate|chsetstart|chsop|chsraw|chstart|chstartf|chstartt|chu|chv|chwritebuf|cinput|ckspline|clamp|clip|colormap|colorname|combinelocaltransform|computenormal|concat|cone|cos|cosh|cracktransform|create_cdf|create_pdf|cregioncapturetransform|cregiondeformtransform|cregionoverridetransform|cross|cspline|ctransform|curlnoise|curlnoise2d|curlxnoise|curlxnoise2d|curvearclen|cvex_bsdf|cwnoise|decode|decodeattrib|decodeparm|decodeutf8|degrees|depthmap|depthname|detail|detailattrib|detailattribsize|detailattribtype|detailattribtypeinfo|detailintrinsic|determinant|diagonalizesymmetric|diffuse|diffuseBRDF|dihedral|dimport|distance|distance2|dot|dsmpixel|efit|eigenvalues|encode|encodeattrib|encodeparm|encodeutf8|endswith|environment|erf|erf_inv|erfc|error|eulertoquaternion|eval_bsdf|exp|expand_udim|expandedgegroup|expandpointgroup|expandprimgroup|expandvertexgroup|extractlocaltransform|fastshadow|filamentsample|file_stat|filter_remap|filtershadow|filterstep|find|findattribval|findattribvalcount|finput|fit|fit01|fit10|fit11|floor|flownoise|flowpnoise|frac|fresnel|fromNDC|frontface|fuzzify|fuzzy_and|fuzzy_defuzz_centroid|fuzzy_nand|fuzzy_nor|fuzzy_not|fuzzy_nxor|fuzzy_or|fuzzy_xor|geoself|geounwrap|getattrib|getattribute|getbbox|getbbox_center|getbbox_max|getbbox_min|getbbox_size|getblurP|getbounces|getbounds|getcomp|getcomponents|getderiv|getfogname|getglobalraylevel|getgroupid|getlight|getlightid|getlightname|getlights|getlightscope|getlocalcurvature|getmaterial|getmaterialid|getobjectid|getobjectname|getpackedtransform|getphotonlight|getpointbbox|getpointbbox_center|getpointbbox_max|getpointbbox_min|getpointbbox_size|getprimid|getptextureid|getraylevel|getrayweight|getsamplestore|getscope|getsmoothP|getspace|getuvtangents|ggx|gradient|hair|has_udim|hasattrib|hasdetailattrib|haslight|hasmetadata|hasplane|haspointattrib|hasprimattrib|hasvertexattrib|hedge_dstpoint|hedge_dstvertex|hedge_equivcount|hedge_isequiv|hedge_isprimary|hedge_isvalid|hedge_next|hedge_nextequiv|hedge_postdstpoint|hedge_postdstvertex|hedge_presrcpoint|hedge_presrcvertex|hedge_prev|hedge_prim|hedge_primary|hedge_srcpoint|hedge_srcvertex|henyeygreenstein|hscript_noise|hscript_rand|hscript_snoise|hscript_sturb|hscript_turb|hsvtorgb|iaspect|ichname|ident|idtopoint|idtoprim|iend|iendtime|ihasplane|import|importance_remap|inedgegroup|ingroup|inpointgroup|inprimgroup|insert|instance|interpolate|intersect|intersect_all|intersect_lights|inumplanes|invert|invertexgroup|invlerp|iplaneindex|iplanename|iplanesize|irate|irradiance|isalpha|isbound|isconnected|isdigit|isfinite|isfogray|isframes|islpeactive|isnan|isotropic|israytracing|issamples|isseconds|isshadingRHS|isshadowray|istart|istarttime|isuvrendering|isvalidindex|isvarying|itoa|ixres|iyres|join|json_dumps|json_loads|keys|kspline|len|length|length2|lerp|lightbounces|lightid|lightstate|limit_sample_space|limport|lkspline|log|log10|lookat|lspline|lstrip|luminance|lumname|makebasis|maketransform|mask_bsdf|maskname|match|matchvex_blinn|matchvex_specular|mattrib|max|mdensity|metadata|metaimport|metamarch|metanext|metastart|metaweight|min|minpos|mspace|mwnoise|mx_cellnoise|mx_perlin|nametopoint|nametoprim|nbouncetypes|ndcdepth|nearpoint|nearpoints|nedgesgroup|neighbour|neighbourcount|neighbours|newgroup|newsampler|nextsample|ninput|ninputs|noise|noised|normal_bsdf|normalize|normalname|npoints|npointsgroup|nprimitives|nprimitivesgroup|nrandom|ntransform|nuniqueval|nvertices|nverticesgroup|objectstate|occlusion|ocean_sample|ocio_activedisplays|ocio_activeviews|ocio_import|ocio_parsecolorspace|ocio_roles|ocio_spaces|ocio_transform|onoise|opdigits|opend|opfullpath|opid|opparentbonetransform|opparenttransform|opparmtransform|oppreconstrainttransform|oppreparmtransform|opprerawparmtransform|oppretransform|oprawparmtransform|opstart|optransform|ord|orthographic|osd_facecount|osd_firstpatch|osd_limitsurface|osd_limitsurfacevertex|osd_lookupface|osd_lookuppatch|osd_patchcount|osd_patches|outerproduct|ow_nspace|ow_space|ow_vspace|pack_inttosafefloat|packedtransform|pathtrace|pcclose|pccone|pccone_radius|pcconvex|pcexport|pcfarthest|pcfilter|pcfind|pcfind_radius|pcgenerate|pcimport|pcimportbyidx3|pcimportbyidx4|pcimportbyidxf|pcimportbyidxi|pcimportbyidxp|pcimportbyidxs|pcimportbyidxv|pciterate|pcline|pcline_radius|pcnumfound|pcopen|pcopenlod|pcsampleleaf|pcsegment|pcsegment_radius|pcsize|pcunshaded|pcwrite|perspective|pgfind|phong|phongBRDF|phonglobe|photonmap|planeindex|planename|planepointdistance|planesize|planesphereintersect|pluralize|pnoise|point|pointattrib|pointattribsize|pointattribtype|pointattribtypeinfo|pointedge|pointhedge|pointhedgenext|pointlocaltransforms|pointname|pointprims|pointtransform|pointtransformrigid|pointtransforms|pointtransformsrigid|pointvertex|pointvertices|polardecomp|polyneighbours|pop|pow|predicate_incircle|predicate_insphere|predicate_orient2d|predicate_orient3d|premul|prerotate|prescale|pretranslate|prim|prim_attribute|prim_normal|primarclen|primattrib|primattribsize|primattribtype|primattribtypeinfo|primduv|primfind|primhedge|primintrinsic|primpoint|primpoints|primuv|primuvconvert|primvertex|primvertexcount|primvertices|print_once|printf|product|ptexture|ptlined|ptransform|push|pxnoise|pxnoised|qconvert|qdistance|qinvert|qmultiply|qrotate|quaternion|quaterniontoeuler|radians|ramp_lookup|ramp_pack|ramp_unpack|rand|random|random_brj|random_fhash|random_ihash|random_poisson|random_shash|random_sobol|rawbumpmap|rawbumpmapA|rawbumpmapB|rawbumpmapG|rawbumpmapL|rawbumpmapR|rawcolormap|rayhittest|rayimport|re_find|re_findall|re_match|re_replace|re_split|reflect|reflectlight|refract|refractlight|relativepath|relbbox|relpath|relpointbbox|removegroup|removeindex|removepoint|removeprim|removevalue|removevertex|renderstate|reorder|replace|replace_match|resample_linear|resize|resolvemissedray|reverse|rgbtohsv|rgbtoxyz|rint|rotate|rotate_x_to|rstrip|sample_bsdf|sample_cauchy|sample_cdf|sample_circle_arc|sample_circle_edge_uniform|sample_circle_ring_uniform|sample_circle_slice|sample_circle_uniform|sample_direction_cone|sample_direction_uniform|sample_discrete|sample_exponential|sample_geometry|sample_hemisphere|sample_hypersphere_cone|sample_hypersphere_uniform|sample_light|sample_lognormal|sample_lognormal_by_median|sample_normal|sample_orientation_cone|sample_orientation_uniform|sample_photon|sample_sphere_cone|sample_sphere_shell_uniform|sample_sphere_uniform|sampledisk|scale|scatter|select|sensor_panorama_create|sensor_panorama_getcolor|sensor_panorama_getcone|sensor_panorama_getdepth|sensor_save|serialize|set|setagentchannelvalue|setagentchannelvalues|setagentclipnames|setagentclips|setagentcliptimes|setagentclipweights|setagentcollisionlayers|setagentcurrentlayers|setagentlocaltransform|setagentlocaltransforms|setagentworldtransform|setagentworldtransforms|setattrib|setattribtypeinfo|setcomp|setcurrentlight|setdetailattrib|setdetailintrinsic|setedgegroup|setpackedtransform|setpointattrib|setpointgroup|setpointlocaltransforms|setpointtransform|setpointtransforms|setprimattrib|setprimgroup|setprimintrinsic|setprimvertex|setsamplestore|setvertexattrib|setvertexgroup|setvertexpoint|shadow|shadow_light|shadowmap|shimport|shl|shr|shrz|sign|simport|sin|sinh|sleep|slerp|slice|slideframe|smooth|smoothrotation|snoise|solid_angle|solveconstraint|solvecubic|solvecurve|solvefbik|solveik|solvephysfbik|solvepoly|solvequadratic|solvetriangleSSS|sort|specular|specularBRDF|spline|spline_cdf|split|split_bsdf|splitpath|sprintf|sqrt|sssapprox|startswith|storelightexport|strip|strlen|sum|surfacedist|svddecomp|switch|swizzle|tan|tanh|tet_adjacent|tet_faceindex|teximport|texprintf|texture|texture3d|texture3dBox|titlecase|toNDC|tolower|toupper|trace|translate|translucent|transpose|trunc|tw_nspace|tw_space|tw_vspace|uniqueval|uniquevals|unpack_intfromsafefloat|unserialize|upush|usd_addattrib|usd_addcollectionexclude|usd_addcollectioninclude|usd_addinversetotransformorder|usd_addorient|usd_addprim|usd_addprimvar|usd_addrelationshiptarget|usd_addrotate|usd_addscale|usd_addtotransformorder|usd_addtransform|usd_addtranslate|usd_attrib|usd_attribelement|usd_attriblen|usd_attribnames|usd_attribsize|usd_attribtimesamples|usd_attribtypename|usd_blockattrib|usd_blockprimvar|usd_blockprimvarindices|usd_blockrelationship|usd_boundmaterialpath|usd_clearmetadata|usd_cleartransformorder|usd_collectioncomputedpaths|usd_collectioncontains|usd_collectionexcludes|usd_collectionexpansionrule|usd_collectionincludes|usd_drawmode|usd_findtransformname|usd_flattenediprimvar|usd_flattenediprimvarelement|usd_flattenedprimvar|usd_flattenedprimvarelement|usd_getbbox|usd_getbbox_center|usd_getbbox_max|usd_getbbox_min|usd_getbbox_size|usd_getbounds|usd_getpointinstancebounds|usd_hasapi|usd_haspayload|usd_iprimvar|usd_iprimvarelement|usd_iprimvarelementsize|usd_iprimvarindices|usd_iprimvarinterpolation|usd_iprimvarlen|usd_iprimvarnames|usd_iprimvarsize|usd_iprimvartimesamples|usd_iprimvartypename|usd_isabstract|usd_isactive|usd_isarray|usd_isarrayiprimvar|usd_isarraymetadata|usd_isarrayprimvar|usd_isattrib|usd_iscollection|usd_iscollectionpath|usd_isindexediprimvar|usd_isindexedprimvar|usd_isinstance|usd_isiprimvar|usd_iskind|usd_ismetadata|usd_ismodel|usd_isprim|usd_isprimvar|usd_isrelationship|usd_isstage|usd_istransformreset|usd_istype|usd_isvisible|usd_kind|usd_localtransform|usd_makeattribpath|usd_makecollectionpath|usd_makepropertypath|usd_makerelationshippath|usd_metadata|usd_metadataelement|usd_metadatalen|usd_metadatanames|usd_name|usd_parentpath|usd_pointinstance_getbbox|usd_pointinstance_getbbox_center|usd_pointinstance_getbbox_max|usd_pointinstance_getbbox_min|usd_pointinstance_getbbox_size|usd_pointinstance_relbbox|usd_pointinstancetransform|usd_primvar|usd_primvarattribname|usd_primvarelement|usd_primvarelementsize|usd_primvarindices|usd_primvarinterpolation|usd_primvarlen|usd_primvarnames|usd_primvarsize|usd_primvartimesamples|usd_primvartypename|usd_purpose|usd_relationshipforwardedtargets|usd_relationshipnames|usd_relationshiptargets|usd_relbbox|usd_removerelationshiptarget|usd_setactive|usd_setattrib|usd_setattribelement|usd_setcollectionexcludes|usd_setcollectionexpansionrule|usd_setcollectionincludes|usd_setdrawmode|usd_setkind|usd_setmetadata|usd_setmetadataelement|usd_setprimvar|usd_setprimvarelement|usd_setprimvarelementsize|usd_setprimvarindices|usd_setprimvarinterpolation|usd_setpurpose|usd_setrelationshiptargets|usd_settransformorder|usd_settransformreset|usd_setvariantselection|usd_setvisibility|usd_setvisible|usd_specifier|usd_transformname|usd_transformorder|usd_transformsuffix|usd_transformtype|usd_typename|usd_uniquetransformname|usd_variants|usd_variantselection|usd_variantsets|usd_worldtransform|uvdist|uvintersect|uvsample|uvunwrap|variance|velocityname|vertex|vertexattrib|vertexattribsize|vertexattribtype|vertexattribtypeinfo|vertexhedge|vertexindex|vertexnext|vertexpoint|vertexprev|vertexprim|vertexprimindex|vnoise|volume|volumecubicsample|volumecubicsamplev|volumegradient|volumeindex|volumeindexactive|volumeindexorigin|volumeindextopos|volumeindexv|volumepostoindex|volumeres|volumesample|volumesamplev|volumesmoothsample|volumesmoothsamplev|volumevoxeldiameter|vtransform|warning|wireblinn|wirediffuse|wnoise|wo_nspace|wo_space|wo_vspace|writepixel|wt_nspace|wt_space|wt_vspace|xnoise|xnoised|xyzdist|xyztorgb\n"
     ]
    }
   ],
   "source": [
    "print('|'.join(lists['vex_functions']))"
   ]
  }
 ],
 "metadata": {
  "kernelspec": {
   "display_name": "Python 3 (ipykernel)",
   "language": "python",
   "name": "python3"
  },
  "language_info": {
   "codemirror_mode": {
    "name": "ipython",
    "version": 3
   },
   "file_extension": ".py",
   "mimetype": "text/x-python",
   "name": "python",
   "nbconvert_exporter": "python",
   "pygments_lexer": "ipython3",
   "version": "3.8.5"
  }
 },
 "nbformat": 4,
 "nbformat_minor": 4
}
