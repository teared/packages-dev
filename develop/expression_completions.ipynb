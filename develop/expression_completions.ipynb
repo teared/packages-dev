{
 "cells": [
  {
   "cell_type": "markdown",
   "metadata": {},
   "source": [
    "## Generate HScript function completions"
   ]
  },
  {
   "cell_type": "code",
   "execution_count": 1,
   "metadata": {},
   "outputs": [],
   "source": [
    "import re\n",
    "import json\n",
    "import random\n",
    "import subprocess\n",
    "from pprint import pprint\n",
    "\n",
    "from hfs import HFS"
   ]
  },
  {
   "cell_type": "code",
   "execution_count": 2,
   "metadata": {},
   "outputs": [],
   "source": [
    "# Obtain available functions with hbatch.\n",
    "proc = subprocess.run([HFS / 'bin' / 'hbatch.exe', '-q', '-c', 'exhelp;quit'],\n",
    "                      stdout=subprocess.PIPE,\n",
    "                      universal_newlines=True)\n",
    "funcs = set(proc.stdout.split())\n",
    "\n",
    "\n",
    "# Collect exhelp helpcards.\n",
    "script = ';'.join(f'exhelp {f}' for f in sorted(funcs))\n",
    "script += ';quit'\n",
    "proc = subprocess.run([HFS / 'bin' / 'hbatch.exe', '-q', '-c', script],\n",
    "                     stdout=subprocess.PIPE,\n",
    "                     universal_newlines=True)\n",
    "output = proc.stdout"
   ]
  },
  {
   "cell_type": "code",
   "execution_count": 3,
   "metadata": {},
   "outputs": [
    {
     "name": "stdout",
     "output_type": "stream",
     "text": [
      "Obtained 455 expression functions\n"
     ]
    }
   ],
   "source": [
    "data = re.sub(r'[`\"<>]', '', output).strip().split('----\\n')\n",
    "print(f'Obtained {len(data)} expression functions')"
   ]
  },
  {
   "cell_type": "code",
   "execution_count": 4,
   "metadata": {},
   "outputs": [
    {
     "name": "stdout",
     "output_type": "stream",
     "text": [
      "Parsed 439 functions, 16 helpcards cannot be parsed:\n",
      "    float arclenD (string surface_node, float prim_num, float ustart, float ustop, float divs)\n",
      "    float ch (string)\n",
      "    float chrampt (string ramp_path, float position, float component_index, float time)\n",
      "    float explodematrixpr (matrix mat, vector p, vector trs, string xyz, string component, string)\n",
      "    float imgbounds (string, string, string, float)\n",
      "    float index (string, string)\n",
      "    string ltrim (string, string)\n",
      "    string opstreamname (string nodepath)\n",
      "    float property (string path, float default)\n",
      "    float propertyf (string, float, float)\n",
      "    string propertys (string, string)\n",
      "    string propertysop (string, string)\n",
      "    string propertysraw (string, string)\n",
      "    float propertyt (string, float, float)\n",
      "    string rtrim (string, string)\n",
      "    string trim (string, string)\n",
      "Overriding with:\n",
      "    float arclenD(string surface_node, float prim_num, float ustart, float ustop, float divs)\n",
      "    float ch(string channel)\n",
      "    float chrampt(string ramp_path, float position, float component_index, float time)\n",
      "    float explodematrixpr(matrix mat, vector p, vector pr, string trs, string xyz, string component)\n",
      "    float imgbounds(string foo, string bar, string baz, float qux)\n",
      "    float index(string source, string pattern)\n",
      "    string ltrim(string s, string trim_characters)\n",
      "    string opstreamname(string nodepath)\n",
      "    float property(string path, float default)\n",
      "    float propertyf(string path, float frame, float default)\n",
      "    string propertys(string path, string default)\n",
      "    string propertysop(string path, string default)\n",
      "    string propertysraw(string path, string default)\n",
      "    float propertyt(string path, float time, float default)\n",
      "    float rtrim(string s, string trim_characters)\n",
      "    float trim(string s, string trim_characters)\n",
      "    \n",
      "    # Manual renamings.\n",
      "    float ceil(float number)\n",
      "    float degree(string surface_node, float prim_num, float du_or_dv)\n",
      "    float iprquery(string query, string pane, float x, float y)\n",
      "    string iprquerys(string query, string pane, float x, float y)\n",
      "    float rint(float number)\n",
      "    float round(float number)\n",
      "    float spknot(string surface_node, float prim_num, float knot_index, float du_or_dv)\n",
      "    float strlen(string s)\n",
      "Parsed 457 of 455 total.\n"
     ]
    }
   ],
   "source": [
    "functions = {}\n",
    "ill = []\n",
    "for helpcard in data:\n",
    "    match = re.match(r'(\\w+)\\s*(\\w+)\\s*\\((.*)?\\)((?:.|\\n)*?)USAGE\\s+\\2\\(((?:.|\\n)*?)?\\)', helpcard)\n",
    "    if not match:\n",
    "        ill.append(helpcard)\n",
    "        continue\n",
    "\n",
    "    summary = match[4].strip().partition('\\n')[0]\n",
    "    summary = ' '.join(summary.split())\n",
    "\n",
    "    extype = match[1]\n",
    "    exname = match[2]\n",
    "\n",
    "    argtypes = [a for a in (a.strip() for a in match[3].split(',')) if a]\n",
    "    argnames = [a for a in (a.strip() for a in match[5].split(',')) if a]\n",
    "    functions[exname] = extype, argtypes, argnames, summary\n",
    "    \n",
    "    # if exname == 'chrampt':\n",
    "    #     print(helpcard)\n",
    "\n",
    "print(f'Parsed {len(functions)} functions, {len(ill)} helpcards cannot be parsed:')\n",
    "for i in ill:\n",
    "    first_line = i.split('\\n', 1)[0]\n",
    "    print(f\"    {first_line}\")\n",
    "\n",
    "print('Overriding with:')\n",
    "with open('expressions.cmd') as f:\n",
    "    for over in f.read().split('\\n'):\n",
    "        print(f'    {over}')\n",
    "        match = re.match(r'(\\w+) (\\w+)\\((.*)\\)', over)\n",
    "        if not match:\n",
    "            continue\n",
    "        extype, exname, args = match.group(1, 2, 3)\n",
    "        argtypes, argnames = [], []\n",
    "        if args:\n",
    "            argtypes, argnames = zip(*[pair.split() for pair in args.split(',')])\n",
    "\n",
    "        summary = ''\n",
    "        if exname in functions:\n",
    "            summary = functions[exname][3]\n",
    "\n",
    "        functions[exname] = extype, argtypes, argnames, summary\n",
    "        \n",
    "for exname, (extype, argtypes, argnames, summary) in functions.items():\n",
    "    if len(argtypes) != len(argnames):\n",
    "        print(exname, extype, argtypes, argnames)\n",
    "        raise RuntimeError\n",
    "        \n",
    "functions = {k: v for k, v in sorted(functions.items())}\n",
    "\n",
    "print(f'Parsed {len(functions)} of {len(data)} total.')"
   ]
  },
  {
   "cell_type": "code",
   "execution_count": 5,
   "metadata": {},
   "outputs": [
    {
     "name": "stdout",
     "output_type": "stream",
     "text": [
      "457\n",
      "opexist\n",
      "{'argnames': ['op_name'],\n",
      " 'argtypes': ['string op_name'],\n",
      " 'return': 'float',\n",
      " 'summary': 'Returns 1 if the specified node, group, or bundle exists.'}\n"
     ]
    }
   ],
   "source": [
    "expressions = {}\n",
    "\n",
    "for exname, (extype, argtypes, argnames, summary) in functions.items():\n",
    "    expressions[exname] = {'return': extype}\n",
    "    expressions[exname]['argtypes'] = argtypes\n",
    "    expressions[exname]['argnames'] = argnames\n",
    "    expressions[exname]['summary'] = summary\n",
    "\n",
    "def test():\n",
    "    print(len(expressions))\n",
    "    f = random.choice(list(expressions.keys()))\n",
    "    print(f)\n",
    "    pprint(expressions[f])\n",
    "    \n",
    "test()"
   ]
  },
  {
   "cell_type": "code",
   "execution_count": 6,
   "metadata": {},
   "outputs": [
    {
     "name": "stdout",
     "output_type": "stream",
     "text": [
      "Generated 457 completions.\n"
     ]
    }
   ],
   "source": [
    "comps = {\n",
    "    'scope': 'source.hscript -string',\n",
    "    'completions': []\n",
    "}\n",
    "used_triggers = set()\n",
    "\n",
    "for exname, exdata in expressions.items():\n",
    "    argnames = exdata['argnames']\n",
    "    trigger = f\"{exname}({', '.join(argnames)})\"\n",
    "\n",
    "    # Completion exists.\n",
    "    if trigger in used_triggers:\n",
    "        continue\n",
    "\n",
    "    # Completion not exists. Make a new one.\n",
    "    used_triggers.add(trigger)\n",
    "\n",
    "    # Build contents.\n",
    "    cargs = [f'${{{i}:{arg}}}' for i, arg in enumerate(argnames, 1)]\n",
    "    contents = f\"{exname}({', '.join(cargs)})\"\n",
    "\n",
    "    comps['completions'].append({'trigger': trigger, 'contents': contents,\n",
    "                                 'kind': 'function', 'details': exdata['summary']})\n",
    "\n",
    "\n",
    "print('Generated %d completions.' % len(used_triggers))\n",
    "\n",
    "\n",
    "# Write completions into a functions.sublime-completions file.\n",
    "with open('expressions.sublime-completions', 'w') as f:\n",
    "    json.dump(comps, f, indent=4)"
   ]
  }
 ],
 "metadata": {
  "kernelspec": {
   "display_name": "Python 3 (ipykernel)",
   "language": "python",
   "name": "python3"
  },
  "language_info": {
   "codemirror_mode": {
    "name": "ipython",
    "version": 3
   },
   "file_extension": ".py",
   "mimetype": "text/x-python",
   "name": "python",
   "nbconvert_exporter": "python",
   "pygments_lexer": "ipython3",
   "version": "3.11.5"
  }
 },
 "nbformat": 4,
 "nbformat_minor": 2
}
