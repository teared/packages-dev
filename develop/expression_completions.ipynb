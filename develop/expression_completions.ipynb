{
 "cells": [
  {
   "cell_type": "markdown",
   "metadata": {},
   "source": [
    "## Generate HScript function completions\n",
    "\n",
    "Instead of generating it from scratch, I have a complete list\n",
    "of expression functions. It's easy to keep it up to date by\n",
    "diffing with list printed by Texport. HScript is barely changing."
   ]
  },
  {
   "cell_type": "code",
   "execution_count": 1,
   "metadata": {},
   "outputs": [],
   "source": [
    "import re\n",
    "import json\n",
    "import random\n",
    "import subprocess\n",
    "from pprint import pprint"
   ]
  },
  {
   "cell_type": "code",
   "execution_count": 2,
   "metadata": {},
   "outputs": [
    {
     "name": "stdout",
     "output_type": "stream",
     "text": [
      "set()\n",
      "{'iprquerys', 'iprquery'}\n"
     ]
    }
   ],
   "source": [
    "with open('expressions.cmd') as f:\n",
    "    expressions_content = f.read() \n",
    "\n",
    "# Check the difference between functions listed in the file\n",
    "# and functions available in current Houdini exhelp command.\n",
    "proc = subprocess.run('hbatch -q -c exhelp'.split(),\n",
    "                      stdout=subprocess.PIPE,\n",
    "                      universal_newlines=True)\n",
    "exhelp = set(proc.stdout.split())\n",
    "listed = set(re.findall(r'^\\w+ (\\w+)\\b.*$', expressions_content, flags=re.M))\n",
    "print(exhelp - listed)\n",
    "print(listed - exhelp)"
   ]
  },
  {
   "cell_type": "code",
   "execution_count": 3,
   "metadata": {},
   "outputs": [
    {
     "name": "stdout",
     "output_type": "stream",
     "text": [
      "404\n",
      "opname\n",
      "{'argnames': ('name',), 'args': ('string',), 'return': 'string'}\n"
     ]
    }
   ],
   "source": [
    "expressions = {}\n",
    "\n",
    "for e in expressions_content.split('\\n'):\n",
    "    match = re.match(r'(\\w+) (\\w+)\\((.*)\\)', e)\n",
    "    r, f, args = match.group(1, 2, 3)\n",
    "    expressions[f] = {'return': r}\n",
    "    if args:\n",
    "        args, argnames = zip(*[pair.split() for pair in args.split(',')])\n",
    "        expressions[f]['args'], expressions[f]['argnames'] = args, argnames\n",
    "\n",
    "def test():\n",
    "    print(len(expressions))\n",
    "    f = random.choice(list(expressions.keys()))\n",
    "    print(f)\n",
    "    pprint(expressions[f])\n",
    "    \n",
    "test()"
   ]
  },
  {
   "cell_type": "code",
   "execution_count": 4,
   "metadata": {},
   "outputs": [
    {
     "name": "stdout",
     "output_type": "stream",
     "text": [
      "Generated 404 completions.\n"
     ]
    }
   ],
   "source": [
    "comps = {\n",
    "    'scope': 'source.hscript -string',\n",
    "    'completions': []\n",
    "}\n",
    "unique_triggers = set()\n",
    "\n",
    "for e in expressions:\n",
    "    args = expressions[e].get('argnames', [])\n",
    "    \n",
    "    trigger = f\"{e}({', '.join(args)})\"\n",
    "\n",
    "    # Completion exists.\n",
    "    if trigger in unique_triggers:\n",
    "        continue\n",
    "        \n",
    "    # Completion not exists. Make a new one.\n",
    "    unique_triggers.add(trigger)\n",
    "\n",
    "    # Build contents.\n",
    "    cargs = [f'${{{i}:{arg}}}' for i, arg in enumerate(args, 1)]\n",
    "    contents = f\"{e}({', '.join(cargs)})\"\n",
    "\n",
    "    comps['completions'].append({'trigger': trigger,\n",
    "                                 'contents': contents})\n",
    "\n",
    "\n",
    "print('Generated %d completions.' % len(unique_triggers))\n",
    "\n",
    "\n",
    "# Write completions into a functions.sublime-completions file.\n",
    "with open('expressions.sublime-completions', 'w') as f:\n",
    "    json.dump(comps, f, indent=4)"
   ]
  }
 ],
 "metadata": {
  "kernelspec": {
   "display_name": "Python 3",
   "language": "python",
   "name": "python3"
  },
  "language_info": {
   "codemirror_mode": {
    "name": "ipython",
    "version": 3
   },
   "file_extension": ".py",
   "mimetype": "text/x-python",
   "name": "python",
   "nbconvert_exporter": "python",
   "pygments_lexer": "ipython3",
   "version": "3.6.5"
  }
 },
 "nbformat": 4,
 "nbformat_minor": 2
}
