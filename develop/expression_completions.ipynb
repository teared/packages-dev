{
 "cells": [
  {
   "cell_type": "markdown",
   "metadata": {},
   "source": [
    "## Generate HScript function completions"
   ]
  },
  {
   "cell_type": "code",
   "execution_count": 1,
   "metadata": {},
   "outputs": [],
   "source": [
    "import re\n",
    "import json\n",
    "import random\n",
    "import subprocess\n",
    "from pprint import pprint"
   ]
  },
  {
   "cell_type": "code",
   "execution_count": 2,
   "metadata": {},
   "outputs": [],
   "source": [
    "# Obtain available functions with hbatch.\n",
    "proc = subprocess.run('hbatch -q -c exhelp;quit'.split(),\n",
    "                      stdout=subprocess.PIPE,\n",
    "                      universal_newlines=True)\n",
    "funcs = set(proc.stdout.split())\n",
    "\n",
    "# Collect exhelp helpcards.\n",
    "script = ';'.join(f'exhelp {f}' for f in sorted(funcs))\n",
    "script += ';quit'\n",
    "proc = subprocess.run(f'hbatch -q -c \"{script}\"',\n",
    "                     stdout=subprocess.PIPE,\n",
    "                     universal_newlines=True)\n",
    "output = proc.stdout"
   ]
  },
  {
   "cell_type": "code",
   "execution_count": 3,
   "metadata": {},
   "outputs": [
    {
     "name": "stdout",
     "output_type": "stream",
     "text": [
      "Obtained 437 expression functions\n"
     ]
    }
   ],
   "source": [
    "data = re.sub(r'[`\"<>]', '', output).strip().split('----\\n')\n",
    "print(f'Obtained {len(data)} expression functions')"
   ]
  },
  {
   "cell_type": "code",
   "execution_count": 4,
   "metadata": {},
   "outputs": [
    {
     "name": "stdout",
     "output_type": "stream",
     "text": [
      "['x', 'y', 'z', 'min_radius', 'max_radius', 'constant_type']\n",
      "Parsed 423 functions, 14 helpcards cannot be parsed:\n",
      "    float arclenD (string, float, float, float, float)\n",
      "    float ch (string)\n",
      "    float chrampt (string, float, float, float)\n",
      "    string copmetas (string, string)\n",
      "    float explodematrixpr (matrix, vector, vector, string, string, string)\n",
      "    float imgbounds (string, string, string, float)\n",
      "    string opstreamname (string)\n",
      "    float property (string, float)\n",
      "    float propertyf (string, float, float)\n",
      "    string propertys (string, string)\n",
      "    string propertysop (string, string)\n",
      "    string propertysraw (string, string)\n",
      "    float propertyt (string, float, float)\n",
      "    float strlen (string)\n",
      "Overriding with:\n",
      "    float arclenD(string surface_node, float prim_num, float ustart, float ustop, float divs)\n",
      "    float ceil(float number)\n",
      "    float ch(string channel)\n",
      "    float chrampt(string ramp_path, float position, float component_index, float time)\n",
      "    string copmetas(string compositing_node, string metadata_name)\n",
      "    float degree(string surface_node, float prim_num, float du_or_dv)\n",
      "    float explodematrixpr(matrix mat, vector p, vector pr, string trs, string xyz, string component)\n",
      "    float imgbounds(string foo, string bar, string baz, float qux)\n",
      "    float iprquery(string query, string pane, float x, float y)\n",
      "    string iprquerys(string query, string pane, float x, float y)\n",
      "    string opstreamname(string nodepath)\n",
      "    float property(string foo, float bar)\n",
      "    float propertyf(string foo, float bar, float baz)\n",
      "    string propertys(string foo, string bar)\n",
      "    string propertysop(string foo, string bar)\n",
      "    string propertysraw(string foo, string bar)\n",
      "    float propertyt(string foo, float bar, float baz)\n",
      "    float rint(float number)\n",
      "    float round(float number)\n",
      "    float spknot(string surface_node, float prim_num, float knot_index, float du_or_dv)\n",
      "    float strlen(string s)\n",
      "Parsed 439 of 437 total.\n"
     ]
    }
   ],
   "source": [
    "functions = {}\n",
    "ill = []\n",
    "for helpcard in data:\n",
    "    match = re.match(r'(\\w+)\\s*(\\w+)\\s*\\((.*)?\\)(?:.|\\n)*?USAGE\\s+\\2\\(((?:.|\\n)*?)?\\)', helpcard)\n",
    "    if not match:\n",
    "        ill.append(helpcard)\n",
    "        continue\n",
    "    extype = match[1]\n",
    "    exname = match[2]\n",
    "\n",
    "    argtypes = [a for a in (a.strip() for a in match[3].split(',')) if a]\n",
    "    argnames = [a for a in (a.strip() for a in match[4].split(',')) if a]\n",
    "    functions[exname] = extype, argtypes, argnames\n",
    "    \n",
    "    if exname == 'clamptosphere':\n",
    "        print(argnames)\n",
    "\n",
    "print(f'Parsed {len(functions)} functions, {len(ill)} helpcards cannot be parsed:')\n",
    "for i in ill:\n",
    "    first_line = i.split('\\n', 1)[0]\n",
    "    print(f\"    {first_line}\")\n",
    "\n",
    "print('Overriding with:')\n",
    "with open('overrides.cmd') as f:\n",
    "    for over in f.read().split('\\n'):\n",
    "        print(f'    {over}')\n",
    "        match = re.match(r'(\\w+) (\\w+)\\((.*)\\)', over)\n",
    "        extype, exname, args = match.group(1, 2, 3)\n",
    "        argtypes, argnames = [], []\n",
    "        if args:\n",
    "            argtypes, argnames = zip(*[pair.split() for pair in args.split(',')])\n",
    "        functions[exname] = extype, argtypes, argnames\n",
    "        \n",
    "for exname, (extype, argtypes, argnames) in functions.items():\n",
    "    if len(argtypes) != len(argnames):\n",
    "        print(exname, extype, argtypes, argnames)\n",
    "        raise RuntimeError\n",
    "        \n",
    "functions = {k: v for k, v in sorted(functions.items())}\n",
    "\n",
    "print(f'Parsed {len(functions)} of {len(data)} total.')"
   ]
  },
  {
   "cell_type": "code",
   "execution_count": 5,
   "metadata": {},
   "outputs": [
    {
     "name": "stdout",
     "output_type": "stream",
     "text": [
      "439\n",
      "primuv\n",
      "{'argnames': ['surface_node',\n",
      "              'prim_num',\n",
      "              'attrib_name',\n",
      "              'attrib_index',\n",
      "              'u',\n",
      "              'v'],\n",
      " 'argtypes': ['string', 'float', 'string', 'float', 'float', 'float'],\n",
      " 'return': 'float'}\n"
     ]
    }
   ],
   "source": [
    "expressions = {}\n",
    "\n",
    "for exname, (extype, argtypes, argnames) in functions.items():\n",
    "    expressions[exname] = {'return': extype}\n",
    "    expressions[exname]['argtypes'] = argtypes\n",
    "    expressions[exname]['argnames'] = argnames\n",
    "\n",
    "def test():\n",
    "    print(len(expressions))\n",
    "    f = random.choice(list(expressions.keys()))\n",
    "    print(f)\n",
    "    pprint(expressions[f])\n",
    "    \n",
    "test()"
   ]
  },
  {
   "cell_type": "code",
   "execution_count": 6,
   "metadata": {},
   "outputs": [
    {
     "name": "stdout",
     "output_type": "stream",
     "text": [
      "Generated 439 completions.\n"
     ]
    }
   ],
   "source": [
    "comps = {\n",
    "    'scope': 'source.hscript -string',\n",
    "    'completions': []\n",
    "}\n",
    "unique_triggers = set()\n",
    "\n",
    "for exname, exdata in expressions.items():\n",
    "    argnames = exdata['argnames']\n",
    "    trigger = f\"{exname}({', '.join(argnames)})\"\n",
    "\n",
    "    # Completion exists.\n",
    "    if trigger in unique_triggers:\n",
    "        continue\n",
    "\n",
    "    # Completion not exists. Make a new one.\n",
    "    unique_triggers.add(trigger)\n",
    "\n",
    "    # Build contents.\n",
    "    cargs = [f'${{{i}:{arg}}}' for i, arg in enumerate(argnames, 1)]\n",
    "    contents = f\"{exname}({', '.join(cargs)})\"\n",
    "\n",
    "    comps['completions'].append({'trigger': trigger,\n",
    "                                 'contents': contents})\n",
    "\n",
    "\n",
    "print('Generated %d completions.' % len(unique_triggers))\n",
    "\n",
    "\n",
    "# Write completions into a functions.sublime-completions file.\n",
    "with open('expressions.sublime-completions', 'w') as f:\n",
    "    json.dump(comps, f, indent=4)"
   ]
  }
 ],
 "metadata": {
  "kernelspec": {
   "display_name": "Python 3",
   "language": "python",
   "name": "python3"
  },
  "language_info": {
   "codemirror_mode": {
    "name": "ipython",
    "version": 3
   },
   "file_extension": ".py",
   "mimetype": "text/x-python",
   "name": "python",
   "nbconvert_exporter": "python",
   "pygments_lexer": "ipython3",
   "version": "3.8.3"
  }
 },
 "nbformat": 4,
 "nbformat_minor": 2
}
